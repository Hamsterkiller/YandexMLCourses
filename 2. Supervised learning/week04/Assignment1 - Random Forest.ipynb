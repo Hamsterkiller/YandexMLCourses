{
 "cells": [
  {
   "cell_type": "markdown",
   "metadata": {},
   "source": [
    "# Бэггинг и слуайный лес"
   ]
  },
  {
   "cell_type": "markdown",
   "metadata": {},
   "source": [
    "## 1. Загрузка исходных данных"
   ]
  },
  {
   "cell_type": "code",
   "execution_count": 1,
   "metadata": {
    "collapsed": true
   },
   "outputs": [],
   "source": [
    "from sklearn.datasets import load_digits"
   ]
  },
  {
   "cell_type": "code",
   "execution_count": 2,
   "metadata": {
    "collapsed": true
   },
   "outputs": [],
   "source": [
    "digits = load_digits()"
   ]
  },
  {
   "cell_type": "markdown",
   "metadata": {},
   "source": [
    "Взглянем на данные"
   ]
  },
  {
   "cell_type": "code",
   "execution_count": 5,
   "metadata": {
    "collapsed": false
   },
   "outputs": [
    {
     "data": {
      "text/plain": [
       "array([[  0.,   0.,   5., ...,   0.,   0.,   0.],\n",
       "       [  0.,   0.,   0., ...,  10.,   0.,   0.],\n",
       "       [  0.,   0.,   0., ...,  16.,   9.,   0.],\n",
       "       ..., \n",
       "       [  0.,   0.,   1., ...,   6.,   0.,   0.],\n",
       "       [  0.,   0.,   2., ...,  12.,   0.,   0.],\n",
       "       [  0.,   0.,  10., ...,  12.,   1.,   0.]])"
      ]
     },
     "execution_count": 5,
     "metadata": {},
     "output_type": "execute_result"
    }
   ],
   "source": [
    "digits.data.view()"
   ]
  },
  {
   "cell_type": "markdown",
   "metadata": {},
   "source": [
    "Выберем признаки из набора данных digits"
   ]
  },
  {
   "cell_type": "code",
   "execution_count": 6,
   "metadata": {
    "collapsed": true
   },
   "outputs": [],
   "source": [
    "X = digits.data"
   ]
  },
  {
   "cell_type": "markdown",
   "metadata": {},
   "source": [
    "Выберем вектор ответов."
   ]
  },
  {
   "cell_type": "code",
   "execution_count": 7,
   "metadata": {
    "collapsed": true
   },
   "outputs": [],
   "source": [
    "y = digits.target"
   ]
  },
  {
   "cell_type": "code",
   "execution_count": 10,
   "metadata": {
    "collapsed": false
   },
   "outputs": [
    {
     "name": "stdout",
     "output_type": "stream",
     "text": [
      "(1797, 64)\n",
      "(1797,)\n"
     ]
    }
   ],
   "source": [
    "print(X.shape)\n",
    "print(y.shape)"
   ]
  },
  {
   "cell_type": "code",
   "execution_count": 11,
   "metadata": {
    "collapsed": true
   },
   "outputs": [],
   "source": [
    "from sklearn.cross_validation import cross_val_score"
   ]
  },
  {
   "cell_type": "markdown",
   "metadata": {},
   "source": [
    "Создадим DesicionTree классификатор с параметрами по умолчанию и измеримкачество его работы на кросс-валидации с 10-тью фолдами."
   ]
  },
  {
   "cell_type": "code",
   "execution_count": 24,
   "metadata": {
    "collapsed": true
   },
   "outputs": [],
   "source": [
    "from sklearn.tree import DecisionTreeClassifier\n",
    "dtc = DecisionTreeClassifier()"
   ]
  },
  {
   "cell_type": "markdown",
   "metadata": {},
   "source": [
    "Вспомогательная функция для записи ответа на вопросы:"
   ]
  },
  {
   "cell_type": "code",
   "execution_count": 38,
   "metadata": {
    "collapsed": false
   },
   "outputs": [],
   "source": [
    "def write_answer(ans, ans_n):\n",
    "    with open(\"trees_answer\"+str(ans_n)+\".txt\", \"w\") as fout:\n",
    "        fout.write(str(ans))"
   ]
  },
  {
   "cell_type": "code",
   "execution_count": 23,
   "metadata": {
    "collapsed": false
   },
   "outputs": [
    {
     "name": "stdout",
     "output_type": "stream",
     "text": [
      "Значения метрики качества :  [ 0.8         0.86885246  0.82872928  0.80555556  0.82122905  0.87150838\n",
      "  0.91061453  0.83707865  0.77966102  0.80681818]\n",
      "Среднее значение метрики качества:  0.83300471021\n"
     ]
    }
   ],
   "source": [
    "dtc_score = cross_val_score(dtc, X, y, cv = 10)\n",
    "print('Значения метрики качества : ', dtc_score)\n",
    "result_1 = dtc_score.mean()\n",
    "print('Среднее значение метрики качества: ', result_1)"
   ]
  },
  {
   "cell_type": "code",
   "execution_count": 39,
   "metadata": {
    "collapsed": false
   },
   "outputs": [],
   "source": [
    "write_answer(result_1, 1)"
   ]
  },
  {
   "cell_type": "markdown",
   "metadata": {},
   "source": [
    "Теперь используем BaggingClassifier со стандартным набором параметров для выращивания ста деревьев."
   ]
  },
  {
   "cell_type": "code",
   "execution_count": 45,
   "metadata": {
    "collapsed": false
   },
   "outputs": [],
   "source": [
    "from sklearn.ensemble import BaggingClassifier\n",
    "bagging_dtc = BaggingClassifier(dtc, 100)"
   ]
  },
  {
   "cell_type": "markdown",
   "metadata": {},
   "source": [
    "Получим оценку качества получившейся композиции"
   ]
  },
  {
   "cell_type": "code",
   "execution_count": 47,
   "metadata": {
    "collapsed": false
   },
   "outputs": [
    {
     "name": "stdout",
     "output_type": "stream",
     "text": [
      "Значения метрики качества :  [ 0.88648649  0.94535519  0.92265193  0.93333333  0.9273743   0.98324022\n",
      "  0.97206704  0.91011236  0.8700565   0.93181818]\n",
      "Среднее значение метрики качества:  0.928249554757\n"
     ]
    }
   ],
   "source": [
    "bagging_dtc_score = cross_val_score(bagging_dtc, X, y, cv = 10)\n",
    "print('Значения метрики качества : ', bagging_dtc_score)\n",
    "result_2 = bagging_dtc_score.mean()\n",
    "print('Среднее значение метрики качества: ', result_2)"
   ]
  },
  {
   "cell_type": "code",
   "execution_count": 49,
   "metadata": {
    "collapsed": true
   },
   "outputs": [],
   "source": [
    "write_answer(result_2, 2)"
   ]
  },
  {
   "cell_type": "markdown",
   "metadata": {},
   "source": [
    "Далее изучим работу BaggingClassifier с применением эвристики для количества признаков для обучения. Будем обучать деревья на $\\sqrt{d}$ случайных признаках набора данных"
   ]
  },
  {
   "cell_type": "code",
   "execution_count": 66,
   "metadata": {
    "collapsed": false
   },
   "outputs": [],
   "source": [
    "import numpy as np\n",
    "f_num = int(np.sqrt(X.shape[1])) # количество признаков для обучения"
   ]
  },
  {
   "cell_type": "code",
   "execution_count": 68,
   "metadata": {
    "collapsed": false
   },
   "outputs": [
    {
     "name": "stdout",
     "output_type": "stream",
     "text": [
      "Значения метрики качества :  [ 0.89189189  0.96174863  0.95027624  0.92222222  0.93854749  0.9273743\n",
      "  0.94413408  0.96629213  0.88700565  0.89772727]\n",
      "Среднее значение метрики качества:  0.928721991429\n"
     ]
    }
   ],
   "source": [
    "bagging_dtc_sqrt = BaggingClassifier(dtc, 100, max_features = f_num)\n",
    "bagging_dtc_sqrt_score = cross_val_score(bagging_dtc_sqrt, X, y, cv = 10)\n",
    "print('Значения метрики качества : ', bagging_dtc_sqrt_score)\n",
    "result_3 = bagging_dtc_sqrt_score.mean()\n",
    "print('Среднее значение метрики качества: ', result_3)"
   ]
  },
  {
   "cell_type": "code",
   "execution_count": 69,
   "metadata": {
    "collapsed": true
   },
   "outputs": [],
   "source": [
    "write_answer(result_3, 3)"
   ]
  },
  {
   "cell_type": "markdown",
   "metadata": {},
   "source": [
    "Устанавливая параметр max_features при создании BaggingClassifier, мы используем $\\sqrt{d}$ случайных признаков датасета для всех деревьев. Теперь попробуем делать тоже самое, но для каждого дерева в отдельности."
   ]
  },
  {
   "cell_type": "code",
   "execution_count": 72,
   "metadata": {
    "collapsed": false
   },
   "outputs": [
    {
     "name": "stdout",
     "output_type": "stream",
     "text": [
      "Значения метрики качества :  [ 0.91351351  0.9726776   0.95027624  0.96666667  0.96089385  0.97206704\n",
      "  0.97765363  0.97191011  0.93785311  0.94318182]\n",
      "Среднее значение метрики качества:  0.956669358193\n"
     ]
    }
   ],
   "source": [
    "dtc_rnd_features = DecisionTreeClassifier(max_features = f_num)\n",
    "bagging_dtc_rnd_features = BaggingClassifier(dtc_rnd_features, 100)\n",
    "bagging_dtc_rnd_features_score = cross_val_score(bagging_dtc_rnd_features, X, y, cv = 10)\n",
    "print('Значения метрики качества : ', bagging_dtc_rnd_features_score)\n",
    "result_4 = bagging_dtc_rnd_features_score.mean()\n",
    "print('Среднее значение метрики качества: ', result_4)"
   ]
  },
  {
   "cell_type": "code",
   "execution_count": 73,
   "metadata": {
    "collapsed": true
   },
   "outputs": [],
   "source": [
    "write_answer(result_4, 4)"
   ]
  },
  {
   "cell_type": "markdown",
   "metadata": {},
   "source": [
    "Получившийся в последнем случае алгоритм эквивалентен алгоритму слчайного леса. Изучим его на практике и построим графики зависимости качества модели от количества деревьев, количества случайных признаков для обучения деревьев и для максимальной глубины деревьев."
   ]
  },
  {
   "cell_type": "code",
   "execution_count": 75,
   "metadata": {
    "collapsed": false
   },
   "outputs": [],
   "source": [
    "from sklearn.ensemble import RandomForestClassifier"
   ]
  },
  {
   "cell_type": "markdown",
   "metadata": {},
   "source": [
    "Сначала сравним качество случайного леса с $\\sqrt{d}$ случайными признаками"
   ]
  },
  {
   "cell_type": "code",
   "execution_count": 78,
   "metadata": {
    "collapsed": false
   },
   "outputs": [
    {
     "name": "stdout",
     "output_type": "stream",
     "text": [
      "Значения метрики качества :  [ 0.91891892  0.93442623  0.90055249  0.9         0.93854749  0.94413408\n",
      "  0.94972067  0.95505618  0.88700565  0.89772727]\n",
      "Среднее значение метрики качества:  0.922608897147\n"
     ]
    }
   ],
   "source": [
    "rnd_forest_clf = RandomForestClassifier(max_features = f_num)\n",
    "rnd_forest_clf_score = cross_val_score(rnd_forest_clf, X, y, cv = 10)\n",
    "print('Значения метрики качества : ', rnd_forest_clf_score)\n",
    "result_5 = rnd_forest_clf_score.mean()\n",
    "print('Среднее значение метрики качества: ', result_5)"
   ]
  },
  {
   "cell_type": "code",
   "execution_count": 108,
   "metadata": {
    "collapsed": true
   },
   "outputs": [],
   "source": [
    "max_depth_score = list()\n",
    "for max_depth in range(1, 10):\n",
    "    rnd_forest_clf = RandomForestClassifier(max_depth = max_depth)\n",
    "    rnd_forest_clf_score = cross_val_score(rnd_forest_clf, X, y, cv = 10)\n",
    "    mean_score = rnd_forest_clf_score.mean()\n",
    "    max_depth_score.append(mean_score)"
   ]
  },
  {
   "cell_type": "code",
   "execution_count": 111,
   "metadata": {
    "collapsed": false
   },
   "outputs": [
    {
     "data": {
      "image/png": "[encoded data removed]",
      "text/plain": [
       "<matplotlib.figure.Figure at 0x9fa2ef0>"
      ]
     },
     "metadata": {},
     "output_type": "display_data"
    }
   ],
   "source": [
    "import matplotlib.pylab as plt\n",
    "%matplotlib inline\n",
    "xx = range(1, 10)\n",
    "plt.plot(xx, max_depth_score)\n",
    "plt.title('Max tree depth dependence')\n",
    "plt.xlabel('max depth')\n",
    "plt.ylabel('cross val score')\n",
    "plt.show()"
   ]
  },
  {
   "cell_type": "code",
   "execution_count": 127,
   "metadata": {
    "collapsed": true
   },
   "outputs": [],
   "source": [
    "max_features_score = list()\n",
    "for max_features in range(1, 50):\n",
    "    rnd_forest_clf = RandomForestClassifier(max_features = max_features)\n",
    "    rnd_forest_clf_score = cross_val_score(rnd_forest_clf, X, y, cv = 10)\n",
    "    mean_score = rnd_forest_clf_score.mean()\n",
    "    max_features_score.append(mean_score)"
   ]
  },
  {
   "cell_type": "code",
   "execution_count": 128,
   "metadata": {
    "collapsed": false
   },
   "outputs": [
    {
     "data": {
      "image/png": "[encoded data removed]",
      "text/plain": [
       "<matplotlib.figure.Figure at 0xa169908>"
      ]
     },
     "metadata": {},
     "output_type": "display_data"
    }
   ],
   "source": [
    "xx = range(1, 50)\n",
    "plot(xx, max_features_score)\n",
    "plt.title('Max tree features dependence')\n",
    "plt.xlabel('max features')\n",
    "plt.ylabel('cross val score')\n",
    "plt.show()"
   ]
  },
  {
   "cell_type": "code",
   "execution_count": 125,
   "metadata": {
    "collapsed": false
   },
   "outputs": [],
   "source": [
    "xx = range(5, 100, 5)\n",
    "max_trees_score = list()\n",
    "for max_trees in xx:\n",
    "    rnd_forest_clf = RandomForestClassifier(n_estimators = max_trees)\n",
    "    rnd_forest_clf_score = cross_val_score(rnd_forest_clf, X, y, cv = 10)\n",
    "    mean_score = rnd_forest_clf_score.mean()\n",
    "    max_trees_score.append(mean_score)"
   ]
  },
  {
   "cell_type": "code",
   "execution_count": 126,
   "metadata": {
    "collapsed": false
   },
   "outputs": [
    {
     "data": {
      "image/png": "[encoded data removed]",
      "text/plain": [
       "<matplotlib.figure.Figure at 0xa137198>"
      ]
     },
     "metadata": {},
     "output_type": "display_data"
    }
   ],
   "source": [
    "plot(xx, max_trees_score)\n",
    "plt.title('Max trees dependence')\n",
    "plt.xlabel('max trees')\n",
    "plt.ylabel('cross val score')\n",
    "plt.show()"
   ]
  }
 ],
 "metadata": {
  "anaconda-cloud": {},
  "kernelspec": {
   "display_name": "Python [Root]",
   "language": "python",
   "name": "Python [Root]"
  },
  "language_info": {
   "codemirror_mode": {
    "name": "ipython",
    "version": 3
   },
   "file_extension": ".py",
   "mimetype": "text/x-python",
   "name": "python",
   "nbconvert_exporter": "python",
   "pygments_lexer": "ipython3",
   "version": "3.5.2"
  }
 },
 "nbformat": 4,
 "nbformat_minor": 0
}
