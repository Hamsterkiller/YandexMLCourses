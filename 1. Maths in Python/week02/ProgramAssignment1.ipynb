{
 "cells": [
  {
   "cell_type": "markdown",
   "metadata": {},
   "source": [
    "# Assignment №1"
   ]
  },
  {
   "cell_type": "markdown",
   "metadata": {},
   "source": [
    "## Exercise №1"
   ]
  },
  {
   "cell_type": "markdown",
   "metadata": {},
   "source": [
    "### 1. Loading and preprocessing data"
   ]
  },
  {
   "cell_type": "code",
   "execution_count": 428,
   "metadata": {
    "collapsed": false
   },
   "outputs": [],
   "source": [
    "import numpy as np\n",
    "import re\n",
    "import pandas as pd\n",
    "import scipy as sc\n",
    "import matplotlib.pylab as plt"
   ]
  },
  {
   "cell_type": "code",
   "execution_count": 160,
   "metadata": {
    "collapsed": false
   },
   "outputs": [],
   "source": [
    "file_obj = open(\"sentences.txt\", 'r')\n",
    "data_list = file_obj.readlines()\n",
    "# for each string in data_list apply lower() function\n",
    "def toLowerCase(d_list):\n",
    "    stripped_and_lowercased = [re.sub(\"[.,?!]\", \"\", line.lower()) for line in d_list if line != \"\"]\n",
    "    return stripped_and_lowercased"
   ]
  },
  {
   "cell_type": "code",
   "execution_count": 161,
   "metadata": {
    "collapsed": false
   },
   "outputs": [],
   "source": [
    "# applying preprocessing to all lines in text\n",
    "low_data_list = toLowerCase(data_list)"
   ]
  },
  {
   "cell_type": "markdown",
   "metadata": {},
   "source": [
    "### 2. Splitting and tokenizing"
   ]
  },
  {
   "cell_type": "code",
   "execution_count": 162,
   "metadata": {
    "collapsed": false
   },
   "outputs": [],
   "source": [
    "list_of_tokens = [re.split(\"[^a-z]\", line) for line in low_data_list]\n",
    "list_of_tokens_no_blank = [[l for l in lst if l != ''] for lst in list_of_tokens]"
   ]
  },
  {
   "cell_type": "markdown",
   "metadata": {},
   "source": [
    "### 3. Creating dictionary {'word': order_in_list}"
   ]
  },
  {
   "cell_type": "code",
   "execution_count": 169,
   "metadata": {
    "collapsed": false
   },
   "outputs": [
    {
     "data": {
      "text/plain": [
       "254"
      ]
     },
     "execution_count": 169,
     "metadata": {},
     "output_type": "execute_result"
    }
   ],
   "source": [
    "# list of all distinct words in sentences sorted by alphabet order\n",
    "flatten_list_of_words = [word for sentence in list_of_tokens_no_blank\n",
    "                            for word in sentence]\n",
    "distinct_words = sorted(list(set(flatten_list_of_words)))\n",
    "# length-checkning\n",
    "len(distinct_words)"
   ]
  },
  {
   "cell_type": "code",
   "execution_count": 362,
   "metadata": {
    "collapsed": false
   },
   "outputs": [],
   "source": [
    "# creating word-dictionary {'word': number in order}\n",
    "def add_row_nums(some_list):\n",
    "    dictionary = dict()\n",
    "    count = 0\n",
    "    for word in some_list:\n",
    "        dictionary[count] = word\n",
    "        count = count + 1\n",
    "    return dictionary"
   ]
  },
  {
   "cell_type": "code",
   "execution_count": 365,
   "metadata": {
    "collapsed": false
   },
   "outputs": [],
   "source": [
    "dictionary = add_row_nums(distinct_words)"
   ]
  },
  {
   "cell_type": "markdown",
   "metadata": {},
   "source": [
    "### 4. Creating matrix of occurences"
   ]
  },
  {
   "cell_type": "code",
   "execution_count": 232,
   "metadata": {
    "collapsed": false
   },
   "outputs": [],
   "source": [
    "# function, that returns list of occurences of each word in dictionary in sentence\n",
    "def count_occurences(sentence, dictionary):\n",
    "    occurs = [0] * len(dictionary)\n",
    "    for k, v in dictionary.items():\n",
    "        occurs[k] = sentence.count(v)    \n",
    "    return occurs"
   ]
  },
  {
   "cell_type": "code",
   "execution_count": 234,
   "metadata": {
    "collapsed": false
   },
   "outputs": [],
   "source": [
    "# applying count_occurences for all sentences\n",
    "list_of_occurences = [count_occurences(s, dictionary) for s in list_of_tokens_no_blank]"
   ]
  },
  {
   "cell_type": "code",
   "execution_count": 295,
   "metadata": {
    "collapsed": false
   },
   "outputs": [
    {
     "data": {
      "text/plain": [
       "(22, 254)"
      ]
     },
     "execution_count": 295,
     "metadata": {},
     "output_type": "execute_result"
    }
   ],
   "source": [
    "# making data_frame form list of occurences\n",
    "occurence_frame = pd.DataFrame(list_of_occurences)\n",
    "occurence_frame.columns = dictionary.values()\n",
    "# checking size\n",
    "occurence_frame.shape"
   ]
  },
  {
   "cell_type": "code",
   "execution_count": 321,
   "metadata": {
    "collapsed": false
   },
   "outputs": [],
   "source": [
    "# convert to numpy matrix\n",
    "occurence_matrix = np.array(occurence_frame)"
   ]
  },
  {
   "cell_type": "code",
   "execution_count": 377,
   "metadata": {
    "collapsed": false
   },
   "outputs": [],
   "source": [
    "# finding 2 nearest sentences to first one (by cosine metric)\n",
    "first_sentence = occurence_matrix[0, :]\n",
    "distances = list()\n",
    "for i in range(0, occurence_matrix.shape[0]):\n",
    "    distances.append(dst.cosine(first_sentence, occurence_matrix[i, :]))"
   ]
  },
  {
   "cell_type": "markdown",
   "metadata": {},
   "source": [
    "Two nearest sentences to 0th (by cosine metric)."
   ]
  },
  {
   "cell_type": "code",
   "execution_count": 378,
   "metadata": {
    "collapsed": false
   },
   "outputs": [
    {
     "data": {
      "text/plain": [
       "{0: 0.0,\n",
       " 1: 0.95275444087384664,\n",
       " 2: 0.86447381456421235,\n",
       " 3: 0.89517151632780823,\n",
       " 4: 0.77708871496985887,\n",
       " 5: 0.94023856953328033,\n",
       " 6: 0.7327387580875756,\n",
       " 7: 0.92587506833388988,\n",
       " 8: 0.88427248752843102,\n",
       " 9: 0.90550888174769317,\n",
       " 10: 0.83281653622739416,\n",
       " 11: 0.88047713906656067,\n",
       " 12: 0.83964325485254543,\n",
       " 13: 0.87035925528956715,\n",
       " 14: 0.87401184233025764,\n",
       " 15: 0.94427217874246472,\n",
       " 16: 0.84063618542208085,\n",
       " 17: 0.95664450152379399,\n",
       " 18: 0.94427217874246472,\n",
       " 19: 0.88854435748492944,\n",
       " 20: 0.84275727449171223,\n",
       " 21: 0.82503644694405864}"
      ]
     },
     "execution_count": 378,
     "metadata": {},
     "output_type": "execute_result"
    }
   ],
   "source": [
    "# make a dict of {distance -> order}\n",
    "dist_with_rownums = add_row_nums(distances)\n",
    "dist_with_rownums"
   ]
  },
  {
   "cell_type": "markdown",
   "metadata": {},
   "source": [
    "Two nearest sentences are: 4-th and 6-th.\n",
    "Let's look at them."
   ]
  },
  {
   "cell_type": "code",
   "execution_count": 380,
   "metadata": {
    "collapsed": false
   },
   "outputs": [
    {
     "name": "stdout",
     "output_type": "stream",
     "text": [
      "In comparison to dogs, cats have not undergone major changes during the domestication process.\n",
      "\n"
     ]
    }
   ],
   "source": [
    "print(data_list[0])"
   ]
  },
  {
   "cell_type": "code",
   "execution_count": 382,
   "metadata": {
    "collapsed": false
   },
   "outputs": [
    {
     "name": "stdout",
     "output_type": "stream",
     "text": [
      "Domestic cats are similar in size to the other members of the genus Felis, typically weighing between 4 and 5 kg (8.8 and 11.0 lb).\n",
      "\n"
     ]
    }
   ],
   "source": [
    "print(data_list[6])"
   ]
  },
  {
   "cell_type": "code",
   "execution_count": 384,
   "metadata": {
    "collapsed": false
   },
   "outputs": [
    {
     "name": "stdout",
     "output_type": "stream",
     "text": [
      "In one, people deliberately tamed cats in a process of artificial selection, as they were useful predators of vermin.\n",
      "\n"
     ]
    }
   ],
   "source": [
    "print(data_list[4])"
   ]
  },
  {
   "cell_type": "markdown",
   "metadata": {},
   "source": [
    "### Conclusion: All three sentences are about cats!"
   ]
  },
  {
   "cell_type": "markdown",
   "metadata": {},
   "source": [
    "## Exercise №2"
   ]
  },
  {
   "cell_type": "markdown",
   "metadata": {},
   "source": [
    "### 1. Creating target function"
   ]
  },
  {
   "cell_type": "code",
   "execution_count": 424,
   "metadata": {
    "collapsed": true
   },
   "outputs": [],
   "source": [
    "# define x values\n",
    "x_values = range(0, 16)"
   ]
  },
  {
   "cell_type": "code",
   "execution_count": 430,
   "metadata": {
    "collapsed": false
   },
   "outputs": [
    {
     "data": {
      "text/plain": [
       "1.8778384165859365"
      ]
     },
     "execution_count": 430,
     "metadata": {},
     "output_type": "execute_result"
    }
   ],
   "source": [
    "def f(x):\n",
    "    res = sc.sin(x/5) * sc.exp(x/10) + 5 * sc.exp(-x/2)\n",
    "    return res\n",
    "f(3)"
   ]
  },
  {
   "cell_type": "code",
   "execution_count": 431,
   "metadata": {
    "collapsed": true
   },
   "outputs": [],
   "source": [
    "# finding f(x) values vector\n",
    "free_terms = [f(x) for x in x_values]"
   ]
  },
  {
   "cell_type": "code",
   "execution_count": 432,
   "metadata": {
    "collapsed": false
   },
   "outputs": [
    {
     "data": {
      "text/plain": [
       "[<matplotlib.lines.Line2D at 0xb500790>]"
      ]
     },
     "execution_count": 432,
     "metadata": {},
     "output_type": "execute_result"
    },
    {
     "data": {
      "image/png": "[encoded data removed]",
      "text/plain": [
       "<matplotlib.figure.Figure at 0xb4881b0>"
      ]
     },
     "metadata": {},
     "output_type": "display_data"
    }
   ],
   "source": [
    "%matplotlib inline\n",
    "plt.plot(x_values, free_terms)"
   ]
  },
  {
   "cell_type": "markdown",
   "metadata": {},
   "source": [
    "### 2. Creating initial matrix of coefficients and vector of free terms: for y = kx + b"
   ]
  },
  {
   "cell_type": "code",
   "execution_count": 433,
   "metadata": {
    "collapsed": false
   },
   "outputs": [
    {
     "data": {
      "text/plain": [
       "3.2522168652714192"
      ]
     },
     "execution_count": 433,
     "metadata": {},
     "output_type": "execute_result"
    }
   ],
   "source": [
    "f(1)"
   ]
  }
 ],
 "metadata": {
  "anaconda-cloud": {},
  "kernelspec": {
   "display_name": "Python [Root]",
   "language": "python",
   "name": "Python [Root]"
  },
  "language_info": {
   "codemirror_mode": {
    "name": "ipython",
    "version": 3
   },
   "file_extension": ".py",
   "mimetype": "text/x-python",
   "name": "python",
   "nbconvert_exporter": "python",
   "pygments_lexer": "ipython3",
   "version": "3.5.1"
  }
 },
 "nbformat": 4,
 "nbformat_minor": 0
}
